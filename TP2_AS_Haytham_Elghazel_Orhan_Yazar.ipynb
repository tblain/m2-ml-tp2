{
 "cells": [
  {
   "cell_type": "markdown",
   "metadata": {},
   "source": [
    "## Haytham Elghazel et Orhan Yazar"
   ]
  },
  {
   "cell_type": "code",
   "execution_count": 1,
   "metadata": {},
   "outputs": [],
   "source": [
    "import numpy as np \n",
    "np.set_printoptions(threshold=10000,suppress=True) \n",
    "import pandas as pd\n",
    "import warnings\n",
    "import matplotlib.pyplot as plt \n",
    "warnings.filterwarnings('ignore')"
   ]
  },
  {
   "cell_type": "markdown",
   "metadata": {},
   "source": [
    "# Partie 1"
   ]
  },
  {
   "cell_type": "code",
   "execution_count": 30,
   "metadata": {},
   "outputs": [],
   "source": [
    "credit_score = pd.read_csv('./credit_scoring.csv',sep=\";\",header=0)"
   ]
  },
  {
   "cell_type": "code",
   "execution_count": 31,
   "metadata": {
    "collapsed": false,
    "jupyter": {
     "outputs_hidden": false
    }
   },
   "outputs": [
    {
     "data": {
      "text/html": [
       "<div>\n",
       "<style scoped>\n",
       "    .dataframe tbody tr th:only-of-type {\n",
       "        vertical-align: middle;\n",
       "    }\n",
       "\n",
       "    .dataframe tbody tr th {\n",
       "        vertical-align: top;\n",
       "    }\n",
       "\n",
       "    .dataframe thead th {\n",
       "        text-align: right;\n",
       "    }\n",
       "</style>\n",
       "<table border=\"1\" class=\"dataframe\">\n",
       "  <thead>\n",
       "    <tr style=\"text-align: right;\">\n",
       "      <th></th>\n",
       "      <th>Seniority</th>\n",
       "      <th>Home</th>\n",
       "      <th>Time</th>\n",
       "      <th>Age</th>\n",
       "      <th>Marital</th>\n",
       "      <th>Records</th>\n",
       "      <th>Job</th>\n",
       "      <th>Expenses</th>\n",
       "      <th>Income</th>\n",
       "      <th>Assets</th>\n",
       "      <th>Debt</th>\n",
       "      <th>Amount</th>\n",
       "      <th>Price</th>\n",
       "      <th>Status</th>\n",
       "    </tr>\n",
       "  </thead>\n",
       "  <tbody>\n",
       "    <tr>\n",
       "      <th>0</th>\n",
       "      <td>9.0</td>\n",
       "      <td>1.0</td>\n",
       "      <td>60.0</td>\n",
       "      <td>30.0</td>\n",
       "      <td>0.0</td>\n",
       "      <td>1.0</td>\n",
       "      <td>1.0</td>\n",
       "      <td>73.0</td>\n",
       "      <td>129.0</td>\n",
       "      <td>0.0</td>\n",
       "      <td>0.0</td>\n",
       "      <td>800.0</td>\n",
       "      <td>846.0</td>\n",
       "      <td>1</td>\n",
       "    </tr>\n",
       "    <tr>\n",
       "      <th>1</th>\n",
       "      <td>17.0</td>\n",
       "      <td>1.0</td>\n",
       "      <td>60.0</td>\n",
       "      <td>58.0</td>\n",
       "      <td>1.0</td>\n",
       "      <td>1.0</td>\n",
       "      <td>0.0</td>\n",
       "      <td>48.0</td>\n",
       "      <td>131.0</td>\n",
       "      <td>0.0</td>\n",
       "      <td>0.0</td>\n",
       "      <td>1000.0</td>\n",
       "      <td>1658.0</td>\n",
       "      <td>1</td>\n",
       "    </tr>\n",
       "    <tr>\n",
       "      <th>2</th>\n",
       "      <td>10.0</td>\n",
       "      <td>0.0</td>\n",
       "      <td>36.0</td>\n",
       "      <td>46.0</td>\n",
       "      <td>0.0</td>\n",
       "      <td>2.0</td>\n",
       "      <td>1.0</td>\n",
       "      <td>90.0</td>\n",
       "      <td>200.0</td>\n",
       "      <td>3000.0</td>\n",
       "      <td>0.0</td>\n",
       "      <td>2000.0</td>\n",
       "      <td>2985.0</td>\n",
       "      <td>0</td>\n",
       "    </tr>\n",
       "  </tbody>\n",
       "</table>\n",
       "</div>"
      ],
      "text/plain": [
       "   Seniority  Home  Time   Age  Marital  Records  Job  Expenses  Income  \\\n",
       "0        9.0   1.0  60.0  30.0      0.0      1.0  1.0      73.0   129.0   \n",
       "1       17.0   1.0  60.0  58.0      1.0      1.0  0.0      48.0   131.0   \n",
       "2       10.0   0.0  36.0  46.0      0.0      2.0  1.0      90.0   200.0   \n",
       "\n",
       "   Assets  Debt  Amount   Price  Status  \n",
       "0     0.0   0.0   800.0   846.0       1  \n",
       "1     0.0   0.0  1000.0  1658.0       1  \n",
       "2  3000.0   0.0  2000.0  2985.0       0  "
      ]
     },
     "execution_count": 31,
     "metadata": {},
     "output_type": "execute_result"
    }
   ],
   "source": [
    "credit_score.head(3)"
   ]
  },
  {
   "cell_type": "code",
   "execution_count": 32,
   "metadata": {
    "collapsed": false,
    "jupyter": {
     "outputs_hidden": false
    }
   },
   "outputs": [
    {
     "data": {
      "text/plain": [
       "(4375, 14)"
      ]
     },
     "execution_count": 32,
     "metadata": {},
     "output_type": "execute_result"
    }
   ],
   "source": [
    "credit_score.shape"
   ]
  },
  {
   "cell_type": "code",
   "execution_count": 33,
   "metadata": {},
   "outputs": [],
   "source": [
    "X=credit_score.iloc[:,:13].values\n",
    "Y=credit_score.iloc[:,13].values"
   ]
  },
  {
   "cell_type": "code",
   "execution_count": 34,
   "metadata": {
    "collapsed": false,
    "jupyter": {
     "outputs_hidden": false
    }
   },
   "outputs": [
    {
     "name": "stdout",
     "output_type": "stream",
     "text": [
      "% Bon payeurs : 72.21 % Mauvais payeurs : 27.79\n"
     ]
    }
   ],
   "source": [
    "mp=100*np.sum(Y==0)/len(Y)\n",
    "bp=100*np.sum(Y==1)/len(Y)\n",
    "\n",
    "print(\"% Bon payeurs : {0:.2f} % Mauvais payeurs : {1:.2f}\".format(bp,mp))"
   ]
  },
  {
   "cell_type": "code",
   "execution_count": 35,
   "metadata": {},
   "outputs": [],
   "source": [
    "from sklearn.model_selection import train_test_split\n",
    "from sklearn.tree import DecisionTreeClassifier\n",
    "from sklearn.neighbors import KNeighborsClassifier\n",
    "from sklearn.metrics import confusion_matrix,accuracy_score\n",
    "from sklearn.preprocessing import StandardScaler\n",
    "from sklearn.decomposition import PCA\n",
    "from sklearn.ensemble import BaggingClassifier"
   ]
  },
  {
   "cell_type": "code",
   "execution_count": 36,
   "metadata": {},
   "outputs": [],
   "source": [
    "Xtrain,Xtest,Ytrain,Ytest=train_test_split(X,Y,test_size=0.5,random_state=1)"
   ]
  },
  {
   "cell_type": "markdown",
   "metadata": {},
   "source": [
    "## Lancement des classifieurs"
   ]
  },
  {
   "cell_type": "code",
   "execution_count": 37,
   "metadata": {
    "collapsed": false,
    "jupyter": {
     "outputs_hidden": false
    }
   },
   "outputs": [],
   "source": [
    "def classifieurs(Xtrain,Xtest,Ytrain,Ytest):\n",
    "    DT=DecisionTreeClassifier(criterion='gini',random_state=1) #CART\n",
    "    DT.fit(Xtrain,Ytrain)\n",
    "    YDT=DT.predict(Xtest)\n",
    "\n",
    "    print(\"Arbre de décision : Accuracy = {0:.2f}\".format(accuracy_score(Ytest,YDT)*100))\n",
    "    print(confusion_matrix(Ytest,YDT))\n",
    "\n",
    "    print()\n",
    "\n",
    "    KNN=KNeighborsClassifier(n_neighbors=5) #KNN\n",
    "    KNN.fit(Xtrain,Ytrain)\n",
    "    YKNN=KNN.predict(Xtest)\n",
    "\n",
    "    print(\"KNN : Accuracy = {0:.2f}\".format(accuracy_score(Ytest,YKNN)*100))\n",
    "    print(confusion_matrix(Ytest,YKNN))\n",
    "\n",
    "    print()"
   ]
  },
  {
   "cell_type": "code",
   "execution_count": 38,
   "metadata": {
    "collapsed": false,
    "jupyter": {
     "outputs_hidden": false
    }
   },
   "outputs": [
    {
     "name": "stdout",
     "output_type": "stream",
     "text": [
      "Arbre de décision : Accuracy = 72.71\n",
      "[[ 325  279]\n",
      " [ 318 1266]]\n",
      "\n",
      "KNN : Accuracy = 72.49\n",
      "[[ 189  415]\n",
      " [ 187 1397]]\n",
      "\n"
     ]
    }
   ],
   "source": [
    "classifieurs(Xtrain,Xtest,Ytrain,Ytest)"
   ]
  },
  {
   "cell_type": "markdown",
   "metadata": {},
   "source": [
    "### Normalisation des données"
   ]
  },
  {
   "cell_type": "code",
   "execution_count": 39,
   "metadata": {
    "collapsed": false,
    "jupyter": {
     "outputs_hidden": false
    }
   },
   "outputs": [
    {
     "name": "stdout",
     "output_type": "stream",
     "text": [
      "Arbre de décision : Accuracy = 72.71\n",
      "[[ 322  282]\n",
      " [ 315 1269]]\n",
      "\n",
      "KNN : Accuracy = 75.27\n",
      "[[ 286  318]\n",
      " [ 223 1361]]\n",
      "\n"
     ]
    }
   ],
   "source": [
    "SS=StandardScaler()\n",
    "SS.fit(Xtrain)\n",
    "Xtrain_norm=SS.transform(Xtrain)\n",
    "Xtest_norm=SS.transform(Xtest)\n",
    "\n",
    "classifieurs(Xtrain_norm,Xtest_norm,Ytrain,Ytest)"
   ]
  },
  {
   "cell_type": "markdown",
   "metadata": {},
   "source": [
    "### Ajout des variables"
   ]
  },
  {
   "cell_type": "markdown",
   "metadata": {},
   "source": [
    "En utilisant le critere de Kaise, on prend les axes avec une variance superieur a 1 donc les 6 premieres."
   ]
  },
  {
   "cell_type": "code",
   "execution_count": 40,
   "metadata": {
    "collapsed": false,
    "jupyter": {
     "outputs_hidden": false
    }
   },
   "outputs": [
    {
     "name": "stdout",
     "output_type": "stream",
     "text": [
      "Arbre de décision : Accuracy = 73.63\n",
      "[[ 351  253]\n",
      " [ 324 1260]]\n",
      "\n",
      "KNN : Accuracy = 75.64\n",
      "[[ 283  321]\n",
      " [ 212 1372]]\n",
      "\n"
     ]
    }
   ],
   "source": [
    "pca=PCA(n_components=3).fit(Xtrain_norm)\n",
    "\n",
    "Xtrain_pca=np.concatenate((Xtrain_norm,pca.transform(Xtrain_norm)),axis=1)\n",
    "Xtest_pca=np.concatenate((Xtest_norm,pca.transform(Xtest_norm)),axis=1)\n",
    "\n",
    "classifieurs(Xtrain_pca,Xtest_pca,Ytrain,Ytest)"
   ]
  },
  {
   "cell_type": "markdown",
   "metadata": {},
   "source": [
    "## Selection des variables"
   ]
  },
  {
   "cell_type": "code",
   "execution_count": 41,
   "metadata": {},
   "outputs": [
    {
     "name": "stdout",
     "output_type": "stream",
     "text": [
      "['Income' 'Seniority' 'pca2' 'pca3' 'Price' 'pca1' 'Amount' 'Age'\n",
      " 'Records' 'Assets' 'Expenses' 'Job' 'Time' 'Debt' 'Home' 'Marital']\n"
     ]
    },
    {
     "data": {
      "image/png": "[encoded data removed]",
      "text/plain": [
       "<Figure size 432x288 with 1 Axes>"
      ]
     },
     "metadata": {
      "needs_background": "light"
     },
     "output_type": "display_data"
    }
   ],
   "source": [
    "from sklearn.ensemble import RandomForestClassifier\n",
    "\n",
    "clf = RandomForestClassifier(n_estimators=100)\n",
    "clf.fit(Xtrain_pca, Ytrain)\n",
    "importances=clf.feature_importances_\n",
    "std = np.std([tree.feature_importances_ for tree in clf.estimators_],axis=0)\n",
    "sorted_idx = np.argsort(importances)[::-1]\n",
    "\n",
    "pca_cols = np.array([\"pca1\", \"pca2\", \"pca3\"], dtype='object')\n",
    "features = np.concatenate((credit_score.columns.values[:13], pca_cols))\n",
    "\n",
    "print(features[sorted_idx])\n",
    "padding = np.arange(Xtrain_pca.size/len(Xtrain_pca)) + 0.5\n",
    "plt.barh(padding, importances[sorted_idx],xerr=std[sorted_idx], align='center')\n",
    "plt.yticks(padding, features[sorted_idx])\n",
    "plt.xlabel(\"Relative Importance\")\n",
    "plt.title(\"Variable Importance\")\n",
    "plt.show()"
   ]
  },
  {
   "cell_type": "code",
   "execution_count": 42,
   "metadata": {},
   "outputs": [
    {
     "data": {
      "image/png": "[encoded data removed]",
      "text/plain": [
       "<Figure size 432x288 with 1 Axes>"
      ]
     },
     "metadata": {
      "needs_background": "light"
     },
     "output_type": "display_data"
    }
   ],
   "source": [
    "KNN=KNeighborsClassifier(n_neighbors=5)\n",
    "scores=np.zeros(Xtrain_pca.shape[1]+1)\n",
    "\n",
    "for f in np.arange(0, Xtrain_pca.shape[1]+1):\n",
    "    X1_f = Xtrain_pca[:,sorted_idx[:f+1]]\n",
    "    X2_f = Xtest_pca[:,sorted_idx[:f+1]]\n",
    "    KNN.fit(X1_f, Ytrain)\n",
    "    YKNN=KNN.predict(X2_f)\n",
    "    scores[f]=np.round(accuracy_score(Ytest,YKNN),3)\n",
    "\n",
    "plt.plot(scores)\n",
    "plt.xlabel(\"Nombre de Variables\")\n",
    "plt.ylabel(\"Accuracy\")\n",
    "plt.title(\"Evolution de l'accuracy en fonction des variables\")\n",
    "plt.show()"
   ]
  },
  {
   "cell_type": "markdown",
   "metadata": {},
   "source": [
    "La meilleur accuracy est atteinte avec 10 features."
   ]
  },
  {
   "cell_type": "code",
   "execution_count": 43,
   "metadata": {},
   "outputs": [],
   "source": [
    "X_train_selec = Xtrain_pca[:, sorted_idx[:10]]\n",
    "X_test_selec = Xtest_pca[:, sorted_idx[:10]]"
   ]
  },
  {
   "cell_type": "markdown",
   "metadata": {},
   "source": [
    "## Parametrage des classifiers"
   ]
  },
  {
   "cell_type": "code",
   "execution_count": 44,
   "metadata": {},
   "outputs": [
    {
     "name": "stdout",
     "output_type": "stream",
     "text": [
      "Gridsearch : Accuracy = 77.06\n",
      "[[ 250  354]\n",
      " [ 148 1436]]\n",
      "{'algorithm': 'auto', 'leaf_size': 3, 'n_neighbors': 15}\n"
     ]
    }
   ],
   "source": [
    "from sklearn import svm, datasets\n",
    "from sklearn.model_selection import GridSearchCV\n",
    "\n",
    "parameters = {\n",
    "    'algorithm':('auto', 'ball_tree', 'kd_tree' 'brute'),\n",
    "    'n_neighbors':[3, 5, 7, 9, 11, 13, 15, 17, 19, 21],\n",
    "    'leaf_size':[3, 4, 5, 6, 7, 8]\n",
    "}\n",
    "KNN=KNeighborsClassifier()\n",
    "clf = GridSearchCV(KNN, parameters)\n",
    "clf.fit(X_train_selec, Ytrain)\n",
    "\n",
    "YSELEC = clf.predict(X_test_selec)\n",
    "print(\"Gridsearch : Accuracy = {0:.2f}\".format(accuracy_score(Ytest,YSELEC)*100))\n",
    "print(confusion_matrix(Ytest,YSELEC))\n",
    "print(clf.best_params_)"
   ]
  },
  {
   "cell_type": "code",
   "execution_count": 45,
   "metadata": {},
   "outputs": [
    {
     "name": "stdout",
     "output_type": "stream",
     "text": [
      "Gridsearch : Accuracy = 74.27\n",
      "[[ 161  443]\n",
      " [ 120 1464]]\n",
      "{'criterion': 'entropy', 'max_depth': 7, 'max_features': 'sqrt', 'splitter': 'random'}\n"
     ]
    }
   ],
   "source": [
    "parameters = {\n",
    "    'criterion':('gini', 'entropy'),\n",
    "    'splitter':('best', 'random'),\n",
    "    'max_features':('auto', 'sqrt', 'log2'),\n",
    "    'max_depth':[3, 5, 7, 9]\n",
    "}\n",
    "DT = DecisionTreeClassifier()\n",
    "clf = GridSearchCV(DT, parameters)\n",
    "clf.fit(X_train_selec, Ytrain)\n",
    "\n",
    "YSELEC = clf.predict(X_test_selec)\n",
    "print(\"Gridsearch : Accuracy = {0:.2f}\".format(accuracy_score(Ytest,YSELEC)*100))\n",
    "print(confusion_matrix(Ytest,YSELEC))\n",
    "print(clf.best_params_)"
   ]
  },
  {
   "cell_type": "markdown",
   "metadata": {},
   "source": [
    "## Creation d'un pipeline"
   ]
  },
  {
   "cell_type": "code",
   "execution_count": 46,
   "metadata": {},
   "outputs": [],
   "source": [
    "from sklearn.base import BaseEstimator, TransformerMixin\n",
    "\n",
    "class AddPCAFeatures(BaseEstimator, TransformerMixin):\n",
    "    def __init__(self, nbFeatures):\n",
    "        self.nbFeatures = nbFeatures\n",
    "\n",
    "    def fit(self, X, y=None):\n",
    "        self.pca = PCA(n_components=self.nbFeatures).fit(X)\n",
    "        return self\n",
    "\n",
    "    def transform(self, X, y=None):\n",
    "        return np.concatenate((X, self.pca.transform(X)),axis=1)\n",
    "\n",
    "    def fit_transform(self, X, y=None):\n",
    "        self.fit(X)\n",
    "        return self.transform(X)\n",
    "    "
   ]
  },
  {
   "cell_type": "code",
   "execution_count": 47,
   "metadata": {},
   "outputs": [
    {
     "data": {
      "text/plain": [
       "0.7705667276051188"
      ]
     },
     "execution_count": 47,
     "metadata": {},
     "output_type": "execute_result"
    }
   ],
   "source": [
    "from sklearn.pipeline import Pipeline\n",
    "\n",
    "pipe = Pipeline([\n",
    "    ('scaler', StandardScaler()),\n",
    "    ('add_pca', AddPCAFeatures(nbFeatures=3)),\n",
    "    (\"knn\", KNeighborsClassifier(algorithm='auto', leaf_size=3, n_neighbors=15))\n",
    "])\n",
    "pipe.fit(Xtrain, Ytrain)\n",
    "# pipe.transform(Xtrain, Ytrain)\n",
    "pipe.score(Xtest, Ytest)"
   ]
  },
  {
   "cell_type": "code",
   "execution_count": 48,
   "metadata": {},
   "outputs": [
    {
     "data": {
      "text/plain": [
       "['pipeline.pkl']"
      ]
     },
     "execution_count": 48,
     "metadata": {},
     "output_type": "execute_result"
    }
   ],
   "source": [
    "import joblib\n",
    "joblib.dump(pipe, 'pipeline.pkl')"
   ]
  },
  {
   "cell_type": "code",
   "execution_count": 49,
   "metadata": {},
   "outputs": [],
   "source": [
    "pipeline = joblib.load('pipeline.pkl')"
   ]
  },
  {
   "cell_type": "markdown",
   "metadata": {},
   "source": [
    "## Comparaison de plusieurs algorithmes d’apprentissage "
   ]
  },
  {
   "cell_type": "code",
   "execution_count": 50,
   "metadata": {},
   "outputs": [],
   "source": [
    "from sklearn.neural_network import MLPClassifier\n",
    "from sklearn.ensemble import BaggingClassifier, AdaBoostClassifier\n",
    "from sklearn.naive_bayes import GaussianNB\n",
    "\n",
    "clfs = {\n",
    "    'RF': RandomForestClassifier(n_estimators=50, random_state=1),\n",
    "    'KNN': KNeighborsClassifier(n_neighbors=10),\n",
    "    'CART': DecisionTreeClassifier(criterion='gini', max_depth= 3, max_features= 'sqrt', splitter= 'best'),\n",
    "    'ID3': DecisionTreeClassifier(criterion='entropy', max_depth= 3, max_features= 'sqrt', splitter= 'best'),\n",
    "    'stump': DecisionTreeClassifier(criterion='entropy', max_depth= 1, max_features= 'sqrt', splitter= 'best'),\n",
    "    'nn': MLPClassifier(hidden_layer_sizes=(20, 10)),\n",
    "    'bagging': BaggingClassifier(n_estimators=50),\n",
    "    'adaboost': AdaBoostClassifier(n_estimators=50),\n",
    "    'bayes': GaussianNB()\n",
    "}"
   ]
  },
  {
   "cell_type": "code",
   "execution_count": 162,
   "metadata": {},
   "outputs": [],
   "source": [
    "from sklearn.model_selection import KFold, cross_val_score\n",
    "from sklearn.metrics import roc_auc_score\n",
    "import time\n",
    "\n",
    "def run_classifiers(clfs, X, y):\n",
    "    print(X.shape, y.shape)\n",
    "    kf = KFold(n_splits=10, shuffle=True, random_state=0)\n",
    "    for i in clfs:\n",
    "        t1 = time.time()\n",
    "        clf = clfs[i]\n",
    "        cv_acc = cross_val_score(clf, X, y, cv=kf)\n",
    "        t2 = time.time()\n",
    "        \n",
    "        print(\"===============================\")\n",
    "        print(\"Accuracy for {0} is: {1:.3f} +/- {2:.3f}\".format(i, np.mean(cv_acc), np.std(cv_acc)))\n",
    "        print(\"auc:\", np.mean(cross_val_score(clf, X, y, cv=kf, scoring=\"roc_auc\")))\n",
    "        print(\"precision:\", np.mean(cross_val_score(clf, X, y, cv=kf, scoring=\"precision\")))\n",
    "        # on prend la precision car on veut surtout que toutes les personnes\n",
    "        # qu'on predit capable de rembourse le rembourse effectivement\n",
    "        # autrement dit ce n'est pas grave de faire des faux negatifs mais plus grave de faire des faux positifs\n",
    "        print(\"Temps d'execution:\", t2-t1)"
   ]
  },
  {
   "cell_type": "code",
   "execution_count": 137,
   "metadata": {},
   "outputs": [
    {
     "name": "stdout",
     "output_type": "stream",
     "text": [
      "===============================\n",
      "Accuracy for RF is: 0.763 +/- 0.026\n",
      "auc: 0.7925515795093364\n",
      "Temps d'execution: 2.639089345932007\n",
      "===============================\n",
      "Accuracy for KNN is: 0.742 +/- 0.031\n",
      "auc: 0.7597190719641651\n",
      "Temps d'execution: 0.16317343711853027\n",
      "===============================\n",
      "Accuracy for CART is: 0.744 +/- 0.030\n",
      "auc: 0.7044481815847712\n",
      "Temps d'execution: 0.03223109245300293\n",
      "===============================\n",
      "Accuracy for ID3 is: 0.732 +/- 0.028\n",
      "auc: 0.7168922171555314\n",
      "Temps d'execution: 0.03363466262817383\n",
      "===============================\n",
      "Accuracy for stump is: 0.733 +/- 0.037\n",
      "auc: 0.62890909339628\n",
      "Temps d'execution: 0.018665790557861328\n",
      "===============================\n",
      "Accuracy for nn is: 0.781 +/- 0.030\n",
      "auc: 0.8195027460658688\n",
      "Temps d'execution: 16.881733894348145\n",
      "===============================\n",
      "Accuracy for bagging is: 0.755 +/- 0.028\n",
      "auc: 0.7827437282028463\n",
      "Temps d'execution: 4.968612194061279\n",
      "===============================\n",
      "Accuracy for adaboost is: 0.773 +/- 0.028\n",
      "auc: 0.8068561343062444\n",
      "Temps d'execution: 1.6433086395263672\n",
      "===============================\n",
      "Accuracy for bayes is: 0.738 +/- 0.030\n",
      "auc: 0.7493994352646862\n",
      "Temps d'execution: 0.018647432327270508\n"
     ]
    }
   ],
   "source": [
    "run_classifiers(clfs, X_train_selec, Ytrain)"
   ]
  },
  {
   "cell_type": "markdown",
   "metadata": {},
   "source": [
    "# Partie 2"
   ]
  },
  {
   "cell_type": "markdown",
   "metadata": {},
   "source": [
    "## Traitement des donnees continues"
   ]
  },
  {
   "cell_type": "code",
   "execution_count": 170,
   "metadata": {},
   "outputs": [],
   "source": [
    "credit = pd.read_csv('./credit.data', delimiter='\\t', header=None)"
   ]
  },
  {
   "cell_type": "code",
   "execution_count": 171,
   "metadata": {},
   "outputs": [],
   "source": [
    "c = credit.iloc[:, :].values"
   ]
  },
  {
   "cell_type": "code",
   "execution_count": 172,
   "metadata": {},
   "outputs": [],
   "source": [
    "to_remove = (0, 3, 4, 5, 6, 8, 9, 11, 12)\n",
    "c = np.delete(c, to_remove, 1)"
   ]
  },
  {
   "cell_type": "code",
   "execution_count": 173,
   "metadata": {},
   "outputs": [],
   "source": [
    "c = c[np.all(c != '?', axis=1)]"
   ]
  },
  {
   "cell_type": "code",
   "execution_count": 174,
   "metadata": {},
   "outputs": [],
   "source": [
    "X = c[:, :6].astype('float')\n",
    "y = c[:, 6]"
   ]
  },
  {
   "cell_type": "code",
   "execution_count": 175,
   "metadata": {},
   "outputs": [
    {
     "name": "stdout",
     "output_type": "stream",
     "text": [
      "(666, 6) (666,)\n",
      "Il y a : 299 +\n",
      "Il y a : 367 -\n"
     ]
    }
   ],
   "source": [
    "print(X.shape, y.shape)\n",
    "print(\"Il y a :\", y[y == '+'].shape[0], \"+\")\n",
    "print(\"Il y a :\", y[y == '-'].shape[0], \"-\")"
   ]
  },
  {
   "cell_type": "code",
   "execution_count": 176,
   "metadata": {},
   "outputs": [],
   "source": [
    "y[y == '+'] = 1\n",
    "y[y == '-'] = 0\n",
    "y = y.astype('float')"
   ]
  },
  {
   "cell_type": "code",
   "execution_count": 177,
   "metadata": {},
   "outputs": [
    {
     "name": "stdout",
     "output_type": "stream",
     "text": [
      "(666, 6) (666,)\n",
      "===============================\n",
      "Accuracy for RF is: 0.788 +/- 0.053\n",
      "auc: 0.8407018490232765\n",
      "precision: 0.8081150920690563\n",
      "Temps d'execution: 1.171785593032837\n",
      "===============================\n",
      "Accuracy for KNN is: 0.704 +/- 0.055\n",
      "auc: 0.7450427285796468\n",
      "precision: 0.7564277087646653\n",
      "Temps d'execution: 0.05841946601867676\n",
      "===============================\n",
      "Accuracy for CART is: 0.743 +/- 0.072\n",
      "auc: 0.7677357843340038\n",
      "precision: 0.7925016114738823\n",
      "Temps d'execution: 0.017404794692993164\n",
      "===============================\n",
      "Accuracy for ID3 is: 0.724 +/- 0.051\n",
      "auc: 0.7614283222310436\n",
      "precision: 0.7466760128780588\n",
      "Temps d'execution: 0.02643609046936035\n",
      "===============================\n",
      "Accuracy for stump is: 0.691 +/- 0.080\n",
      "auc: 0.6622286935747094\n",
      "precision: 0.7504560485810486\n",
      "Temps d'execution: 0.024717330932617188\n",
      "===============================\n",
      "Accuracy for nn is: 0.647 +/- 0.080\n",
      "auc: 0.7657814811928179\n",
      "precision: 0.7170021209167792\n",
      "Temps d'execution: 2.363264322280884\n",
      "===============================\n",
      "Accuracy for bagging is: 0.784 +/- 0.051\n",
      "auc: 0.836925078192964\n",
      "precision: 0.7748375698375698\n",
      "Temps d'execution: 1.3462169170379639\n",
      "===============================\n",
      "Accuracy for adaboost is: 0.770 +/- 0.063\n",
      "auc: 0.8407711014098457\n",
      "precision: 0.7610791620318873\n",
      "Temps d'execution: 0.883892297744751\n",
      "===============================\n",
      "Accuracy for bayes is: 0.716 +/- 0.050\n",
      "auc: 0.7930768130371149\n",
      "precision: 0.8322346982223146\n",
      "Temps d'execution: 0.014362812042236328\n"
     ]
    }
   ],
   "source": [
    "run_classifiers(clfs, X, y)"
   ]
  },
  {
   "cell_type": "markdown",
   "metadata": {},
   "source": [
    "Le meilleur model en precision est le bayes qui est egalement plutot rapide"
   ]
  },
  {
   "cell_type": "code",
   "execution_count": 178,
   "metadata": {},
   "outputs": [],
   "source": [
    "ss = StandardScaler()\n",
    "X = ss.fit_transform(X)"
   ]
  },
  {
   "cell_type": "code",
   "execution_count": 179,
   "metadata": {},
   "outputs": [
    {
     "name": "stdout",
     "output_type": "stream",
     "text": [
      "(666, 6) (666,)\n",
      "===============================\n",
      "Accuracy for RF is: 0.790 +/- 0.050\n",
      "auc: 0.840794241078868\n",
      "precision: 0.8089798263685731\n",
      "Temps d'execution: 0.9225037097930908\n",
      "===============================\n",
      "Accuracy for KNN is: 0.737 +/- 0.056\n",
      "auc: 0.8184833479784789\n",
      "precision: 0.8222850604772802\n",
      "Temps d'execution: 0.04396319389343262\n",
      "===============================\n",
      "Accuracy for CART is: 0.718 +/- 0.069\n",
      "auc: 0.7780843957508787\n",
      "precision: 0.7948799435295378\n",
      "Temps d'execution: 0.014859199523925781\n",
      "===============================\n",
      "Accuracy for ID3 is: 0.739 +/- 0.079\n",
      "auc: 0.7810684023759875\n",
      "precision: 0.7644423686335451\n",
      "Temps d'execution: 0.024360179901123047\n",
      "===============================\n",
      "Accuracy for stump is: 0.646 +/- 0.077\n",
      "auc: 0.6848446487712001\n",
      "precision: 0.7583546462063087\n",
      "Temps d'execution: 0.013348102569580078\n",
      "===============================\n",
      "Accuracy for nn is: 0.788 +/- 0.041\n",
      "auc: 0.8423457352212932\n",
      "precision: 0.8394520690168454\n",
      "Temps d'execution: 4.401332378387451\n",
      "===============================\n",
      "Accuracy for bagging is: 0.781 +/- 0.059\n",
      "auc: 0.8348060216982096\n",
      "precision: 0.7856422542696906\n",
      "Temps d'execution: 1.3491709232330322\n",
      "===============================\n",
      "Accuracy for adaboost is: 0.770 +/- 0.063\n",
      "auc: 0.8407711014098457\n",
      "precision: 0.7610791620318873\n",
      "Temps d'execution: 1.220283031463623\n",
      "===============================\n",
      "Accuracy for bayes is: 0.716 +/- 0.050\n",
      "auc: 0.7931700096820357\n",
      "precision: 0.8322346982223146\n",
      "Temps d'execution: 0.015947341918945312\n"
     ]
    }
   ],
   "source": [
    "run_classifiers(clfs, X, y)"
   ]
  },
  {
   "cell_type": "markdown",
   "metadata": {},
   "source": [
    "- Le randomforest n'obtient pas d'amelioration probablement car la normalisation n'apport rien pour les arbres.\n",
    "- KNN a bien meilleurs resultats\n",
    "- Pour CART l'amelioration est insignificante\n",
    "- Pour ID3 on perd en auc mais on gagne en precision\n",
    "- le stump est toujours aussi mauvais\n",
    "- le reseau de neurones est bien mieux car la descente de gradient beneficie beaucoup de donnees normalisees\n",
    "- Pour le bagging l'amelioration est peur significante\n",
    "- adaboost est meilleur en precision  et en auc\n",
    "- Pour bayes rien ne change"
   ]
  },
  {
   "cell_type": "markdown",
   "metadata": {},
   "source": [
    "## Traitement de toutes les donnees"
   ]
  },
  {
   "cell_type": "code",
   "execution_count": 183,
   "metadata": {},
   "outputs": [
    {
     "data": {
      "text/html": [
       "<div>\n",
       "<style scoped>\n",
       "    .dataframe tbody tr th:only-of-type {\n",
       "        vertical-align: middle;\n",
       "    }\n",
       "\n",
       "    .dataframe tbody tr th {\n",
       "        vertical-align: top;\n",
       "    }\n",
       "\n",
       "    .dataframe thead th {\n",
       "        text-align: right;\n",
       "    }\n",
       "</style>\n",
       "<table border=\"1\" class=\"dataframe\">\n",
       "  <thead>\n",
       "    <tr style=\"text-align: right;\">\n",
       "      <th></th>\n",
       "      <th>0</th>\n",
       "      <th>1</th>\n",
       "      <th>2</th>\n",
       "      <th>3</th>\n",
       "      <th>4</th>\n",
       "      <th>5</th>\n",
       "      <th>6</th>\n",
       "      <th>7</th>\n",
       "      <th>8</th>\n",
       "      <th>9</th>\n",
       "      <th>10</th>\n",
       "      <th>11</th>\n",
       "      <th>12</th>\n",
       "      <th>13</th>\n",
       "      <th>14</th>\n",
       "      <th>15</th>\n",
       "    </tr>\n",
       "  </thead>\n",
       "  <tbody>\n",
       "    <tr>\n",
       "      <th>0</th>\n",
       "      <td>b</td>\n",
       "      <td>30.83</td>\n",
       "      <td>0.000</td>\n",
       "      <td>u</td>\n",
       "      <td>g</td>\n",
       "      <td>w</td>\n",
       "      <td>v</td>\n",
       "      <td>1.25</td>\n",
       "      <td>t</td>\n",
       "      <td>t</td>\n",
       "      <td>1</td>\n",
       "      <td>f</td>\n",
       "      <td>g</td>\n",
       "      <td>202</td>\n",
       "      <td>0</td>\n",
       "      <td>+</td>\n",
       "    </tr>\n",
       "    <tr>\n",
       "      <th>1</th>\n",
       "      <td>a</td>\n",
       "      <td>58.67</td>\n",
       "      <td>4.460</td>\n",
       "      <td>u</td>\n",
       "      <td>g</td>\n",
       "      <td>q</td>\n",
       "      <td>h</td>\n",
       "      <td>3.04</td>\n",
       "      <td>t</td>\n",
       "      <td>t</td>\n",
       "      <td>6</td>\n",
       "      <td>f</td>\n",
       "      <td>g</td>\n",
       "      <td>43</td>\n",
       "      <td>560</td>\n",
       "      <td>+</td>\n",
       "    </tr>\n",
       "    <tr>\n",
       "      <th>2</th>\n",
       "      <td>a</td>\n",
       "      <td>24.50</td>\n",
       "      <td>0.500</td>\n",
       "      <td>u</td>\n",
       "      <td>g</td>\n",
       "      <td>q</td>\n",
       "      <td>h</td>\n",
       "      <td>1.50</td>\n",
       "      <td>t</td>\n",
       "      <td>f</td>\n",
       "      <td>0</td>\n",
       "      <td>f</td>\n",
       "      <td>g</td>\n",
       "      <td>280</td>\n",
       "      <td>824</td>\n",
       "      <td>+</td>\n",
       "    </tr>\n",
       "    <tr>\n",
       "      <th>3</th>\n",
       "      <td>b</td>\n",
       "      <td>27.83</td>\n",
       "      <td>1.540</td>\n",
       "      <td>u</td>\n",
       "      <td>g</td>\n",
       "      <td>w</td>\n",
       "      <td>v</td>\n",
       "      <td>3.75</td>\n",
       "      <td>t</td>\n",
       "      <td>t</td>\n",
       "      <td>5</td>\n",
       "      <td>t</td>\n",
       "      <td>g</td>\n",
       "      <td>100</td>\n",
       "      <td>3</td>\n",
       "      <td>+</td>\n",
       "    </tr>\n",
       "    <tr>\n",
       "      <th>4</th>\n",
       "      <td>b</td>\n",
       "      <td>20.17</td>\n",
       "      <td>5.625</td>\n",
       "      <td>u</td>\n",
       "      <td>g</td>\n",
       "      <td>w</td>\n",
       "      <td>v</td>\n",
       "      <td>1.71</td>\n",
       "      <td>t</td>\n",
       "      <td>f</td>\n",
       "      <td>0</td>\n",
       "      <td>f</td>\n",
       "      <td>s</td>\n",
       "      <td>120</td>\n",
       "      <td>0</td>\n",
       "      <td>+</td>\n",
       "    </tr>\n",
       "    <tr>\n",
       "      <th>...</th>\n",
       "      <td>...</td>\n",
       "      <td>...</td>\n",
       "      <td>...</td>\n",
       "      <td>...</td>\n",
       "      <td>...</td>\n",
       "      <td>...</td>\n",
       "      <td>...</td>\n",
       "      <td>...</td>\n",
       "      <td>...</td>\n",
       "      <td>...</td>\n",
       "      <td>...</td>\n",
       "      <td>...</td>\n",
       "      <td>...</td>\n",
       "      <td>...</td>\n",
       "      <td>...</td>\n",
       "      <td>...</td>\n",
       "    </tr>\n",
       "    <tr>\n",
       "      <th>683</th>\n",
       "      <td>b</td>\n",
       "      <td>21.08</td>\n",
       "      <td>10.085</td>\n",
       "      <td>y</td>\n",
       "      <td>p</td>\n",
       "      <td>e</td>\n",
       "      <td>h</td>\n",
       "      <td>1.25</td>\n",
       "      <td>f</td>\n",
       "      <td>f</td>\n",
       "      <td>0</td>\n",
       "      <td>f</td>\n",
       "      <td>g</td>\n",
       "      <td>260</td>\n",
       "      <td>0</td>\n",
       "      <td>-</td>\n",
       "    </tr>\n",
       "    <tr>\n",
       "      <th>684</th>\n",
       "      <td>a</td>\n",
       "      <td>22.67</td>\n",
       "      <td>0.750</td>\n",
       "      <td>u</td>\n",
       "      <td>g</td>\n",
       "      <td>c</td>\n",
       "      <td>v</td>\n",
       "      <td>2.00</td>\n",
       "      <td>f</td>\n",
       "      <td>t</td>\n",
       "      <td>2</td>\n",
       "      <td>t</td>\n",
       "      <td>g</td>\n",
       "      <td>200</td>\n",
       "      <td>394</td>\n",
       "      <td>-</td>\n",
       "    </tr>\n",
       "    <tr>\n",
       "      <th>685</th>\n",
       "      <td>a</td>\n",
       "      <td>25.25</td>\n",
       "      <td>13.500</td>\n",
       "      <td>y</td>\n",
       "      <td>p</td>\n",
       "      <td>ff</td>\n",
       "      <td>ff</td>\n",
       "      <td>2.00</td>\n",
       "      <td>f</td>\n",
       "      <td>t</td>\n",
       "      <td>1</td>\n",
       "      <td>t</td>\n",
       "      <td>g</td>\n",
       "      <td>200</td>\n",
       "      <td>1</td>\n",
       "      <td>-</td>\n",
       "    </tr>\n",
       "    <tr>\n",
       "      <th>686</th>\n",
       "      <td>b</td>\n",
       "      <td>17.92</td>\n",
       "      <td>0.205</td>\n",
       "      <td>u</td>\n",
       "      <td>g</td>\n",
       "      <td>aa</td>\n",
       "      <td>v</td>\n",
       "      <td>0.04</td>\n",
       "      <td>f</td>\n",
       "      <td>f</td>\n",
       "      <td>0</td>\n",
       "      <td>f</td>\n",
       "      <td>g</td>\n",
       "      <td>280</td>\n",
       "      <td>750</td>\n",
       "      <td>-</td>\n",
       "    </tr>\n",
       "    <tr>\n",
       "      <th>687</th>\n",
       "      <td>b</td>\n",
       "      <td>35.00</td>\n",
       "      <td>3.375</td>\n",
       "      <td>u</td>\n",
       "      <td>g</td>\n",
       "      <td>c</td>\n",
       "      <td>h</td>\n",
       "      <td>8.29</td>\n",
       "      <td>f</td>\n",
       "      <td>f</td>\n",
       "      <td>0</td>\n",
       "      <td>t</td>\n",
       "      <td>g</td>\n",
       "      <td>0</td>\n",
       "      <td>0</td>\n",
       "      <td>-</td>\n",
       "    </tr>\n",
       "  </tbody>\n",
       "</table>\n",
       "<p>688 rows × 16 columns</p>\n",
       "</div>"
      ],
      "text/plain": [
       "    0      1       2  3  4   5   6     7  8  9   10 11 12   13   14 15\n",
       "0    b  30.83   0.000  u  g   w   v  1.25  t  t   1  f  g  202    0  +\n",
       "1    a  58.67   4.460  u  g   q   h  3.04  t  t   6  f  g   43  560  +\n",
       "2    a  24.50   0.500  u  g   q   h  1.50  t  f   0  f  g  280  824  +\n",
       "3    b  27.83   1.540  u  g   w   v  3.75  t  t   5  t  g  100    3  +\n",
       "4    b  20.17   5.625  u  g   w   v  1.71  t  f   0  f  s  120    0  +\n",
       "..  ..    ...     ... .. ..  ..  ..   ... .. ..  .. .. ..  ...  ... ..\n",
       "683  b  21.08  10.085  y  p   e   h  1.25  f  f   0  f  g  260    0  -\n",
       "684  a  22.67   0.750  u  g   c   v  2.00  f  t   2  t  g  200  394  -\n",
       "685  a  25.25  13.500  y  p  ff  ff  2.00  f  t   1  t  g  200    1  -\n",
       "686  b  17.92   0.205  u  g  aa   v  0.04  f  f   0  f  g  280  750  -\n",
       "687  b  35.00   3.375  u  g   c   h  8.29  f  f   0  t  g    0    0  -\n",
       "\n",
       "[688 rows x 16 columns]"
      ]
     },
     "execution_count": 183,
     "metadata": {},
     "output_type": "execute_result"
    }
   ],
   "source": [
    "credit"
   ]
  },
  {
   "cell_type": "code",
   "execution_count": 193,
   "metadata": {},
   "outputs": [],
   "source": [
    "X = credit.iloc[:, :15].values\n",
    "y = credit.iloc[:, 15].values"
   ]
  },
  {
   "cell_type": "markdown",
   "metadata": {},
   "source": [
    "### Imputing des variables categorielles"
   ]
  },
  {
   "cell_type": "code",
   "execution_count": 197,
   "metadata": {},
   "outputs": [],
   "source": [
    "from sklearn.impute import SimpleImputer\n",
    "\n",
    "col_cat = [0, 3, 4, 5, 6, 8, 9, 11, 12]\n",
    "X_cat = np.copy(X[:, col_cat])\n",
    "for col_id in range(len(col_cat)):\n",
    "    unique_val, val_idx = np.unique(X_cat[:, col_id], return_inverse=True)\n",
    "    X_cat[:, col_id] = val_idx\n",
    "    \n",
    "imp_cat = SimpleImputer(missing_values=0, strategy='most_frequent')\n",
    "X_cat[:, range(5)] = imp_cat.fit_transform(X_cat[:, range(5)])"
   ]
  },
  {
   "cell_type": "markdown",
   "metadata": {},
   "source": [
    "### Imputing des variables numeriques"
   ]
  },
  {
   "cell_type": "code",
   "execution_count": 212,
   "metadata": {},
   "outputs": [],
   "source": [
    "col_num = [1, 2, 7, 10, 13, 14]\n",
    "\n",
    "X_num = np.copy(X[:, col_num])\n",
    "X_num[X_num == '?'] = np.nan\n",
    "X_num = X_num.astype(float)\n",
    "\n",
    "imp_num = SimpleImputer(missing_values=np.nan, strategy='mean')\n",
    "X_num = imp_num.fit_transform(X_num)\n",
    "ss = StandardScaler()\n",
    "X_num = ss.fit_transform(X_num)"
   ]
  },
  {
   "cell_type": "code",
   "execution_count": 205,
   "metadata": {},
   "outputs": [],
   "source": [
    "from sklearn.preprocessing import OneHotEncoder\n",
    "\n",
    "X_cat_bin = OneHotEncoder().fit_transform(X_cat).toarray()"
   ]
  },
  {
   "cell_type": "markdown",
   "metadata": {},
   "source": [
    "### Concatenation finale"
   ]
  },
  {
   "cell_type": "code",
   "execution_count": 213,
   "metadata": {},
   "outputs": [],
   "source": [
    "X = np.concatenate((X_cat_bin, X_num), axis=1)"
   ]
  },
  {
   "cell_type": "markdown",
   "metadata": {},
   "source": [
    "### Traitement des targets"
   ]
  },
  {
   "cell_type": "code",
   "execution_count": 218,
   "metadata": {},
   "outputs": [],
   "source": [
    "y[y == '+'] = 1\n",
    "y[y == '-'] = 0\n",
    "y = y.astype('float')"
   ]
  },
  {
   "cell_type": "markdown",
   "metadata": {},
   "source": [
    "### Evaluation"
   ]
  },
  {
   "cell_type": "code",
   "execution_count": 220,
   "metadata": {},
   "outputs": [
    {
     "name": "stdout",
     "output_type": "stream",
     "text": [
      "(688, 46) (688,)\n",
      "===============================\n",
      "Accuracy for RF is: 0.852 +/- 0.053\n",
      "auc: 0.9109863637511421\n",
      "precision: 0.8398243791340289\n",
      "Temps d'execution: 1.336615800857544\n",
      "===============================\n",
      "Accuracy for KNN is: 0.818 +/- 0.056\n",
      "auc: 0.8715279280379333\n",
      "precision: 0.8012748171368862\n",
      "Temps d'execution: 0.11184144020080566\n",
      "===============================\n",
      "Accuracy for CART is: 0.741 +/- 0.121\n",
      "auc: 0.8055500441901706\n",
      "precision: 0.7562071096126823\n",
      "Temps d'execution: 0.037363529205322266\n",
      "===============================\n",
      "Accuracy for ID3 is: 0.814 +/- 0.071\n",
      "auc: 0.7913994272549585\n",
      "precision: 0.7630747397043282\n",
      "Temps d'execution: 0.01930999755859375\n",
      "===============================\n",
      "Accuracy for stump is: 0.593 +/- 0.078\n",
      "auc: 0.6805200602674377\n",
      "precision: 0.3502861952861953\n",
      "Temps d'execution: 0.0439145565032959\n",
      "===============================\n",
      "Accuracy for nn is: 0.853 +/- 0.058\n",
      "auc: 0.9151392213562837\n",
      "precision: 0.815320598519128\n",
      "Temps d'execution: 14.84663987159729\n",
      "===============================\n",
      "Accuracy for bagging is: 0.856 +/- 0.035\n",
      "auc: 0.909592473454866\n",
      "precision: 0.8486230475072244\n",
      "Temps d'execution: 2.3588438034057617\n",
      "===============================\n",
      "Accuracy for adaboost is: 0.847 +/- 0.048\n",
      "auc: 0.9067704842950353\n",
      "precision: 0.8019410949581728\n",
      "Temps d'execution: 1.242546796798706\n",
      "===============================\n",
      "Accuracy for bayes is: 0.631 +/- 0.055\n",
      "auc: 0.8454936450184315\n",
      "precision: 0.8232346109175378\n",
      "Temps d'execution: 0.036780595779418945\n"
     ]
    }
   ],
   "source": [
    "run_classifiers(clfs, X, y)"
   ]
  },
  {
   "cell_type": "markdown",
   "metadata": {},
   "source": [
    "# Partie 3"
   ]
  },
  {
   "cell_type": "code",
   "execution_count": 226,
   "metadata": {},
   "outputs": [],
   "source": [
    "spams = pd.read_csv('SMSSpamCollection.data', delimiter='\\t', header=None)"
   ]
  },
  {
   "cell_type": "code",
   "execution_count": 257,
   "metadata": {},
   "outputs": [
    {
     "data": {
      "text/html": [
       "<div>\n",
       "<style scoped>\n",
       "    .dataframe tbody tr th:only-of-type {\n",
       "        vertical-align: middle;\n",
       "    }\n",
       "\n",
       "    .dataframe tbody tr th {\n",
       "        vertical-align: top;\n",
       "    }\n",
       "\n",
       "    .dataframe thead th {\n",
       "        text-align: right;\n",
       "    }\n",
       "</style>\n",
       "<table border=\"1\" class=\"dataframe\">\n",
       "  <thead>\n",
       "    <tr style=\"text-align: right;\">\n",
       "      <th></th>\n",
       "      <th>0</th>\n",
       "      <th>1</th>\n",
       "    </tr>\n",
       "  </thead>\n",
       "  <tbody>\n",
       "    <tr>\n",
       "      <th>0</th>\n",
       "      <td>ham</td>\n",
       "      <td>Go until jurong point, crazy.. Available only ...</td>\n",
       "    </tr>\n",
       "    <tr>\n",
       "      <th>1</th>\n",
       "      <td>ham</td>\n",
       "      <td>Ok lar... Joking wif u oni...</td>\n",
       "    </tr>\n",
       "    <tr>\n",
       "      <th>2</th>\n",
       "      <td>spam</td>\n",
       "      <td>Free entry in 2 a wkly comp to win FA Cup fina...</td>\n",
       "    </tr>\n",
       "    <tr>\n",
       "      <th>3</th>\n",
       "      <td>ham</td>\n",
       "      <td>U dun say so early hor... U c already then say...</td>\n",
       "    </tr>\n",
       "    <tr>\n",
       "      <th>4</th>\n",
       "      <td>ham</td>\n",
       "      <td>Nah I don't think he goes to usf, he lives aro...</td>\n",
       "    </tr>\n",
       "    <tr>\n",
       "      <th>...</th>\n",
       "      <td>...</td>\n",
       "      <td>...</td>\n",
       "    </tr>\n",
       "    <tr>\n",
       "      <th>5567</th>\n",
       "      <td>spam</td>\n",
       "      <td>This is the 2nd time we have tried 2 contact u...</td>\n",
       "    </tr>\n",
       "    <tr>\n",
       "      <th>5568</th>\n",
       "      <td>ham</td>\n",
       "      <td>Will ü b going to esplanade fr home?</td>\n",
       "    </tr>\n",
       "    <tr>\n",
       "      <th>5569</th>\n",
       "      <td>ham</td>\n",
       "      <td>Pity, * was in mood for that. So...any other s...</td>\n",
       "    </tr>\n",
       "    <tr>\n",
       "      <th>5570</th>\n",
       "      <td>ham</td>\n",
       "      <td>The guy did some bitching but I acted like i'd...</td>\n",
       "    </tr>\n",
       "    <tr>\n",
       "      <th>5571</th>\n",
       "      <td>ham</td>\n",
       "      <td>Rofl. Its true to its name</td>\n",
       "    </tr>\n",
       "  </tbody>\n",
       "</table>\n",
       "<p>5572 rows × 2 columns</p>\n",
       "</div>"
      ],
      "text/plain": [
       "         0                                                  1\n",
       "0      ham  Go until jurong point, crazy.. Available only ...\n",
       "1      ham                      Ok lar... Joking wif u oni...\n",
       "2     spam  Free entry in 2 a wkly comp to win FA Cup fina...\n",
       "3      ham  U dun say so early hor... U c already then say...\n",
       "4      ham  Nah I don't think he goes to usf, he lives aro...\n",
       "...    ...                                                ...\n",
       "5567  spam  This is the 2nd time we have tried 2 contact u...\n",
       "5568   ham               Will ü b going to esplanade fr home?\n",
       "5569   ham  Pity, * was in mood for that. So...any other s...\n",
       "5570   ham  The guy did some bitching but I acted like i'd...\n",
       "5571   ham                         Rofl. Its true to its name\n",
       "\n",
       "[5572 rows x 2 columns]"
      ]
     },
     "execution_count": 257,
     "metadata": {},
     "output_type": "execute_result"
    }
   ],
   "source": [
    "spams"
   ]
  },
  {
   "cell_type": "code",
   "execution_count": 264,
   "metadata": {},
   "outputs": [],
   "source": [
    "y = spams[0]\n",
    "y[y == 'spam'] = 1\n",
    "y[y == 'ham'] = 0\n",
    "y = y.astype('float')"
   ]
  },
  {
   "cell_type": "markdown",
   "metadata": {},
   "source": [
    "## CountVectorizer"
   ]
  },
  {
   "cell_type": "code",
   "execution_count": 244,
   "metadata": {},
   "outputs": [],
   "source": [
    "from sklearn.feature_extraction.text import CountVectorizer"
   ]
  },
  {
   "cell_type": "code",
   "execution_count": 291,
   "metadata": {},
   "outputs": [],
   "source": [
    "vectorizer = CountVectorizer(max_features=150, stop_words='english')"
   ]
  },
  {
   "cell_type": "code",
   "execution_count": 292,
   "metadata": {},
   "outputs": [],
   "source": [
    "corpus = spams[1]\n",
    "X_sparse = vectorizer.fit_transform(corpus)"
   ]
  },
  {
   "cell_type": "code",
   "execution_count": 293,
   "metadata": {},
   "outputs": [
    {
     "data": {
      "text/plain": [
       "(5572, 150)"
      ]
     },
     "execution_count": 293,
     "metadata": {},
     "output_type": "execute_result"
    }
   ],
   "source": [
    "X = X_sparse.toarray()\n",
    "X.shape"
   ]
  },
  {
   "cell_type": "code",
   "execution_count": 294,
   "metadata": {},
   "outputs": [
    {
     "name": "stdout",
     "output_type": "stream",
     "text": [
      "(5572, 150) (5572,)\n",
      "===============================\n",
      "Accuracy for RF is: 0.971 +/- 0.006\n",
      "auc: 0.9694130153924547\n",
      "precision: 0.9228788144770051\n",
      "Temps d'execution: 7.685060739517212\n",
      "===============================\n",
      "Accuracy for KNN is: 0.929 +/- 0.009\n",
      "auc: 0.9318725626062017\n",
      "precision: 0.9832909497699628\n",
      "Temps d'execution: 9.207774639129639\n",
      "===============================\n",
      "Accuracy for CART is: 0.894 +/- 0.015\n",
      "auc: 0.6408900165971861\n",
      "precision: 0.8676273726273726\n",
      "Temps d'execution: 0.08591651916503906\n",
      "===============================\n",
      "Accuracy for ID3 is: 0.893 +/- 0.015\n",
      "auc: 0.6224117799024571\n",
      "precision: 0.8974643955078738\n",
      "Temps d'execution: 0.09720706939697266\n",
      "===============================\n",
      "Accuracy for stump is: 0.877 +/- 0.019\n",
      "auc: 0.556995930323713\n",
      "precision: 0.9118181818181819\n",
      "Temps d'execution: 0.10751795768737793\n",
      "===============================\n",
      "Accuracy for nn is: 0.973 +/- 0.008\n",
      "auc: 0.9656022231628564\n",
      "precision: 0.9444058301911571\n",
      "Temps d'execution: 86.81654977798462\n",
      "===============================\n",
      "Accuracy for bagging is: 0.966 +/- 0.006\n",
      "auc: 0.9660216600413024\n",
      "precision: 0.8916111551579912\n",
      "Temps d'execution: 46.74226140975952\n",
      "===============================\n",
      "Accuracy for adaboost is: 0.967 +/- 0.005\n",
      "auc: 0.9527555088555868\n",
      "precision: 0.9441298720813714\n",
      "Temps d'execution: 6.195229768753052\n",
      "===============================\n",
      "Accuracy for bayes is: 0.553 +/- 0.016\n",
      "auc: 0.741550220910447\n",
      "precision: 0.22749997666260097\n",
      "Temps d'execution: 0.20425152778625488\n"
     ]
    }
   ],
   "source": [
    "run_classifiers(clfs, X, y)"
   ]
  },
  {
   "cell_type": "markdown",
   "metadata": {},
   "source": [
    "## Tf–idf term weighting "
   ]
  },
  {
   "cell_type": "code",
   "execution_count": 279,
   "metadata": {},
   "outputs": [],
   "source": [
    "from sklearn.feature_extraction.text import TfidfTransformer\n",
    "transformer = TfidfTransformer(smooth_idf=False)"
   ]
  },
  {
   "cell_type": "code",
   "execution_count": 280,
   "metadata": {},
   "outputs": [],
   "source": [
    "tfidf = transformer.fit_transform(X)\n",
    "X = tfidf.toarray()"
   ]
  },
  {
   "cell_type": "code",
   "execution_count": 281,
   "metadata": {},
   "outputs": [
    {
     "name": "stdout",
     "output_type": "stream",
     "text": [
      "(5572, 300) (5572,)\n",
      "===============================\n",
      "Accuracy for RF is: 0.978 +/- 0.006\n",
      "auc: 0.9819616104120479\n",
      "precision: 0.9487415984009282\n",
      "Temps d'execution: 13.190774917602539\n",
      "===============================\n",
      "Accuracy for KNN is: 0.925 +/- 0.013\n",
      "auc: 0.9364395332339994\n",
      "precision: 0.9723827578307318\n",
      "Temps d'execution: 17.810646533966064\n",
      "===============================\n",
      "Accuracy for CART is: 0.894 +/- 0.012\n",
      "auc: 0.6248553567551088\n",
      "precision: 0.8637950937950938\n",
      "Temps d'execution: 0.12497830390930176\n",
      "===============================\n",
      "Accuracy for ID3 is: 0.897 +/- 0.019\n",
      "auc: 0.6369398817799105\n",
      "precision: 0.8552424790906585\n",
      "Temps d'execution: 0.14270329475402832\n",
      "===============================\n",
      "Accuracy for stump is: 0.880 +/- 0.015\n",
      "auc: 0.5468790144436098\n",
      "precision: 0.8473559773559775\n",
      "Temps d'execution: 0.11528158187866211\n",
      "===============================\n",
      "Accuracy for nn is: 0.976 +/- 0.005\n",
      "auc: 0.9773477119887378\n",
      "precision: 0.9214476428785883\n",
      "Temps d'execution: 132.54820227622986\n",
      "===============================\n",
      "Accuracy for bagging is: 0.972 +/- 0.009\n",
      "auc: 0.9761155356519178\n",
      "precision: 0.8977572866064264\n",
      "Temps d'execution: 174.61717343330383\n",
      "===============================\n",
      "Accuracy for adaboost is: 0.969 +/- 0.008\n",
      "auc: 0.9666927035182933\n",
      "precision: 0.9404202774455197\n",
      "Temps d'execution: 15.97548508644104\n",
      "===============================\n",
      "Accuracy for bayes is: 0.689 +/- 0.013\n",
      "auc: 0.8027738633292788\n",
      "precision: 0.2945565151071405\n",
      "Temps d'execution: 0.3535125255584717\n"
     ]
    }
   ],
   "source": [
    "run_classifiers(clfs, X, y)"
   ]
  },
  {
   "cell_type": "markdown",
   "metadata": {},
   "source": [
    "## TruncatedSVD"
   ]
  },
  {
   "cell_type": "code",
   "execution_count": 283,
   "metadata": {},
   "outputs": [
    {
     "name": "stdout",
     "output_type": "stream",
     "text": [
      "[0.00963894 0.017899   0.01521943 0.0144032  0.01275346 0.01285277\n",
      " 0.01211325 0.01167252 0.01121555 0.01084866 0.01010538 0.00991799\n",
      " 0.00960588 0.00914513 0.00901996 0.00888718 0.00873738 0.00835307\n",
      " 0.00815541 0.00793799 0.00776976 0.00768623 0.0076104  0.00735946\n",
      " 0.00724027 0.00707785 0.00694478 0.00689474 0.00682749 0.00663721]\n",
      "0.29053034427004\n",
      "[10.74964552  9.56339559  9.12439289  8.54042873  8.07900998  8.05214225\n",
      "  7.83594804  7.67322156  7.5237424   7.42237585  7.18103237  7.07368486\n",
      "  6.96104308  6.80101526  6.76225451  6.69915646  6.63930235  6.49184533\n",
      "  6.41349225  6.32725686  6.25997572  6.22656133  6.20061433  6.13476132\n",
      "  6.04947481  5.97458544  5.92505438  5.90727299  5.87271123  5.78988876]\n"
     ]
    }
   ],
   "source": [
    "from sklearn.decomposition import TruncatedSVD\n",
    "\n",
    "svd = TruncatedSVD(n_components=30, n_iter=7, random_state=42)\n",
    "X = svd.fit_transform(X)\n",
    "\n",
    "print(svd.explained_variance_ratio_)\n",
    "\n",
    "print(svd.explained_variance_ratio_.sum())\n",
    "\n",
    "print(svd.singular_values_)"
   ]
  },
  {
   "cell_type": "code",
   "execution_count": 284,
   "metadata": {},
   "outputs": [
    {
     "name": "stdout",
     "output_type": "stream",
     "text": [
      "(5572, 30) (5572,)\n",
      "===============================\n",
      "Accuracy for RF is: 0.972 +/- 0.007\n",
      "auc: 0.9749801104040806\n",
      "precision: 0.9478659103020723\n",
      "Temps d'execution: 8.942096471786499\n",
      "===============================\n",
      "Accuracy for KNN is: 0.960 +/- 0.005\n",
      "auc: 0.9645700115801403\n",
      "precision: 0.9182482679463695\n",
      "Temps d'execution: 1.3168656826019287\n",
      "===============================\n",
      "Accuracy for CART is: 0.910 +/- 0.015\n",
      "auc: 0.8825487237948307\n",
      "precision: 0.6532108299792181\n",
      "Temps d'execution: 0.1391453742980957\n",
      "===============================\n",
      "Accuracy for ID3 is: 0.895 +/- 0.020\n",
      "auc: 0.898378634861446\n",
      "precision: 0.7143687326400248\n",
      "Temps d'execution: 0.17159008979797363\n",
      "===============================\n",
      "Accuracy for stump is: 0.866 +/- 0.017\n",
      "auc: 0.692932457892632\n",
      "precision: 0.0\n",
      "Temps d'execution: 0.07620596885681152\n",
      "===============================\n",
      "Accuracy for nn is: 0.972 +/- 0.007\n",
      "auc: 0.9826584771743464\n",
      "precision: 0.913016491898922\n",
      "Temps d'execution: 48.049816608428955\n",
      "===============================\n",
      "Accuracy for bagging is: 0.971 +/- 0.006\n",
      "auc: 0.9720792407686277\n",
      "precision: 0.9418948031460316\n",
      "Temps d'execution: 47.63332676887512\n",
      "===============================\n",
      "Accuracy for adaboost is: 0.962 +/- 0.008\n",
      "auc: 0.975445564604778\n",
      "precision: 0.8735847900249134\n",
      "Temps d'execution: 10.593956232070923\n",
      "===============================\n",
      "Accuracy for bayes is: 0.661 +/- 0.021\n",
      "auc: 0.9010821895593434\n",
      "precision: 0.26756422286442233\n",
      "Temps d'execution: 0.05420327186584473\n"
     ]
    }
   ],
   "source": [
    "run_classifiers(clfs, X, y)"
   ]
  },
  {
   "cell_type": "markdown",
   "metadata": {},
   "source": [
    "## Pipeline"
   ]
  },
  {
   "cell_type": "code",
   "execution_count": 288,
   "metadata": {},
   "outputs": [],
   "source": [
    "from sklearn.pipeline import Pipeline\n",
    "\n",
    "pipe = Pipeline([\n",
    "    ('count_vectorizer', CountVectorizer(max_features=150, stop_words='english')),\n",
    "    ('TfidfTransformer', TfidfTransformer(smooth_idf=False)),\n",
    "    (\"TruncatedSVD\", TruncatedSVD(n_components=30, n_iter=7, random_state=42))\n",
    "])\n",
    "X = pipe.fit_transform(spams[1].iloc[:], y)"
   ]
  },
  {
   "cell_type": "markdown",
   "metadata": {},
   "source": [
    "## Application sur un autre jeu de donnees"
   ]
  },
  {
   "cell_type": "code",
   "execution_count": 334,
   "metadata": {},
   "outputs": [],
   "source": [
    "yelp = pd.read_csv(\"yelp-text-by-stars.csv\", header=0, delimiter=\";\")"
   ]
  },
  {
   "cell_type": "code",
   "execution_count": 335,
   "metadata": {},
   "outputs": [
    {
     "data": {
      "text/html": [
       "<div>\n",
       "<style scoped>\n",
       "    .dataframe tbody tr th:only-of-type {\n",
       "        vertical-align: middle;\n",
       "    }\n",
       "\n",
       "    .dataframe tbody tr th {\n",
       "        vertical-align: top;\n",
       "    }\n",
       "\n",
       "    .dataframe thead th {\n",
       "        text-align: right;\n",
       "    }\n",
       "</style>\n",
       "<table border=\"1\" class=\"dataframe\">\n",
       "  <thead>\n",
       "    <tr style=\"text-align: right;\">\n",
       "      <th></th>\n",
       "      <th>Stars</th>\n",
       "    </tr>\n",
       "  </thead>\n",
       "  <tbody>\n",
       "    <tr>\n",
       "      <th>count</th>\n",
       "      <td>47371.000000</td>\n",
       "    </tr>\n",
       "    <tr>\n",
       "      <th>mean</th>\n",
       "      <td>3.724008</td>\n",
       "    </tr>\n",
       "    <tr>\n",
       "      <th>std</th>\n",
       "      <td>1.421121</td>\n",
       "    </tr>\n",
       "    <tr>\n",
       "      <th>min</th>\n",
       "      <td>1.000000</td>\n",
       "    </tr>\n",
       "    <tr>\n",
       "      <th>25%</th>\n",
       "      <td>3.000000</td>\n",
       "    </tr>\n",
       "    <tr>\n",
       "      <th>50%</th>\n",
       "      <td>4.000000</td>\n",
       "    </tr>\n",
       "    <tr>\n",
       "      <th>75%</th>\n",
       "      <td>5.000000</td>\n",
       "    </tr>\n",
       "    <tr>\n",
       "      <th>max</th>\n",
       "      <td>5.000000</td>\n",
       "    </tr>\n",
       "  </tbody>\n",
       "</table>\n",
       "</div>"
      ],
      "text/plain": [
       "              Stars\n",
       "count  47371.000000\n",
       "mean       3.724008\n",
       "std        1.421121\n",
       "min        1.000000\n",
       "25%        3.000000\n",
       "50%        4.000000\n",
       "75%        5.000000\n",
       "max        5.000000"
      ]
     },
     "execution_count": 335,
     "metadata": {},
     "output_type": "execute_result"
    }
   ],
   "source": [
    "yelp.describe()"
   ]
  },
  {
   "cell_type": "code",
   "execution_count": 336,
   "metadata": {},
   "outputs": [],
   "source": [
    "X = yelp.iloc[:, 1].values\n",
    "y = yelp.iloc[:, 0].values"
   ]
  },
  {
   "cell_type": "code",
   "execution_count": 337,
   "metadata": {},
   "outputs": [],
   "source": [
    "y[y<=4] = 0\n",
    "y[y>4] = 1"
   ]
  },
  {
   "cell_type": "code",
   "execution_count": 339,
   "metadata": {},
   "outputs": [],
   "source": [
    "X = pipe.fit_transform(X, y)"
   ]
  },
  {
   "cell_type": "code",
   "execution_count": null,
   "metadata": {},
   "outputs": [],
   "source": [
    "run_classifiers(clfs, X, y)"
   ]
  },
  {
   "cell_type": "code",
   "execution_count": null,
   "metadata": {},
   "outputs": [],
   "source": []
  }
 ],
 "metadata": {
  "kernelspec": {
   "display_name": "Python 3",
   "language": "python",
   "name": "python3"
  },
  "language_info": {
   "codemirror_mode": {
    "name": "ipython",
    "version": 3
   },
   "file_extension": ".py",
   "mimetype": "text/x-python",
   "name": "python",
   "nbconvert_exporter": "python",
   "pygments_lexer": "ipython3",
   "version": "3.9.0"
  }
 },
 "nbformat": 4,
 "nbformat_minor": 4
}
